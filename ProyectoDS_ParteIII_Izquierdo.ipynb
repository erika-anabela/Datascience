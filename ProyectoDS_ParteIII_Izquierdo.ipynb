{
 "cells": [
  {
   "cell_type": "markdown",
   "id": "7fd7a7c3-3547-4e26-bf61-3481067b485d",
   "metadata": {},
   "source": [
    "# PROYECTO FINAL Data Science I - Izquierdo, Erika\n",
    "## Temática: **Estadísticas Delictuales en Chile desde 2010 a 2023**\n",
    "\n",
    "### Introducción:\n",
    "Este trabajo plantea el análisis y evolución sobre diferentes delitos a lo largo de una década en el vecino país de Chile, en el mismo se incluye información sobre:\n",
    "- Homicidios\n",
    "- Robos/hurtos\n",
    "- Violencia Familiar (Sobre niños, mujeres, hombres y adultos mayores)\n",
    "\n",
    "### Hipótesis planteadas:\n",
    "- Se cree que los indices de violencia familiar a los largo de estos 10 años deberian ir en descenso por la concientización y educación social al respecto.\n",
    "- Además se cree que el género podría influir en las estadisticas de violencia, siendo el femenino mas propenso a ser victima de ello.\n",
    "- Se estima que la tasa de homicidios pudo haberse incrementado al igual que la de Robos/hurtos por las crisis economicosociales de los últimos años.\n",
    "\n",
    "### Objetivos:\n",
    "En la primer parte de este trabajo se intentarán validar las hipótesis planteadas en el punto anterior, a traves de visualizaciones en diferentes gráficos que nos permiten ver de manera sencilla el comportamiento delictual a lo largo de la última década.\n",
    "\n",
    "El objetivo final es intentar predecir, a traves de estos datos históricos, la ola de delitos a la que podría enfrentarse la fuerza policial, determinando de esta manera la necesidad y/o urgencia sobre reforzar dotaciones, generar nuevas vacantes para ingresos y/o ajustar políticas de contingencia. Para ello tomaremos como referencia los valores de Robo y Violencia sobre la mujer por tratarse de los mas representativos a nivel social.\n",
    "\n",
    "\n",
    "### Primeras Observaciones:\n",
    "De acuerdo a las primeras visualizaciones logradas, podemos observar una notable diferencia entre casos de violencia sobre mujeres, con respecto a hombre, ancianos y niños, además de una fuerte desaceleración de casos desde 2010 a la fecha.\n",
    "Sobre Robos y hurtos, a primera vista se observa una baja en la cantidad de denuncias, por el contrario a Homicidios que tuvo su pico mas alto dentro del registro de los ultimos años.\n",
    "\n",
    "- Para el Análisis predictivo de este dataset se trabajará con Algoritmos de Aprendizaje Supervisado, particularmente de **Regresión**.\n",
    "- Para el modelado de los mismos se tomarán como referencia los valores de Robo y Violencia sobre la mujer por tratarse de los mas representativos a nivel social.\n",
    "\n",
    "\n",
    "\n",
    "\n",
    "\n",
    "\n",
    "\n",
    "\n",
    "\n",
    "\n"
   ]
  },
  {
   "cell_type": "markdown",
   "id": "2f0b33b4-ea51-4775-9dc6-f9585e02b537",
   "metadata": {},
   "source": [
    "\n",
    "\n",
    "### Importo Librerías"
   ]
  },
  {
   "cell_type": "code",
   "execution_count": 127,
   "id": "1920cc76-8630-4d22-8ce9-4c111114b992",
   "metadata": {
    "scrolled": true
   },
   "outputs": [],
   "source": [
    "\n",
    "import pandas as pd\n",
    "import numpy as np\n",
    "import matplotlib as mpl\n",
    "import matplotlib.pyplot as plt\n",
    "import seaborn as sns\n",
    "from sklearn.preprocessing import LabelEncoder\n",
    "from sklearn.model_selection import train_test_split\n",
    "from sklearn.metrics import r2_score\n",
    "from sklearn.metrics import mean_absolute_error\n",
    "from sklearn.metrics import mean_squared_error\n",
    "from sklearn.metrics import confusion_matrix, classification_report\n",
    "from sklearn.linear_model import LinearRegression, Ridge, Lasso, RidgeCV\n",
    "from sklearn.neighbors import KNeighborsRegressor as KNN\n",
    "from sklearn.neighbors import KNeighborsClassifier\n",
    "from xgboost import XGBRegressor\n",
    "\n"
   ]
  },
  {
   "cell_type": "markdown",
   "id": "025dcf14-4428-4156-9203-7b4ef2e268a4",
   "metadata": {},
   "source": [
    "### **DATASET**\n",
    "\n",
    "#### Descripción, detalle y visualizaciones."
   ]
  },
  {
   "cell_type": "code",
   "execution_count": 144,
   "id": "3d842b67-ad15-4518-af55-72a81be39517",
   "metadata": {},
   "outputs": [
    {
     "name": "stdout",
     "output_type": "stream",
     "text": [
      "    AÑO      MES  Homicidios  Hurtos  Lesiones  Robos  Robo vehículo   \\\n",
      "0  2010    ENERO          28    9142      6723   4114            2270   \n",
      "1  2010  FEBRERO          19    8083      5433   3568            2210   \n",
      "2  2010    MARZO          18    7783      6527   3447            2375   \n",
      "3  2010    ABRIL          15    8432      6248   3587            2480   \n",
      "4  2010     MAYO          14    9121      6189   3844            2632   \n",
      "\n",
      "   Delitos sexuales  Violencia s/adulto mayor  Violencia s/ hombres  \\\n",
      "0               657                       136                  1422   \n",
      "1               593                       116                  1131   \n",
      "2               716                       140                  1283   \n",
      "3               710                       124                  1095   \n",
      "4               707                       123                  1107   \n",
      "\n",
      "   Violencia s/mujer  Violencia s/niños  \n",
      "0               8618                468  \n",
      "1               7020                373  \n",
      "2               7552                482  \n",
      "3               6778                405  \n",
      "4               6955                452  \n"
     ]
    }
   ],
   "source": [
    "# Importo el df\n",
    "\n",
    "df_delitos= pd.read_excel (\"estadisticas.delitos.xlsx\")\n",
    "print (df_delitos.head())"
   ]
  },
  {
   "cell_type": "code",
   "execution_count": 7,
   "id": "3767e378-7989-41e0-88d5-7e0ad08d5dca",
   "metadata": {},
   "outputs": [
    {
     "data": {
      "text/plain": [
       "(162, 12)"
      ]
     },
     "execution_count": 7,
     "metadata": {},
     "output_type": "execute_result"
    }
   ],
   "source": [
    "# Dimensiones del df\n",
    "\n",
    "df_delitos.shape"
   ]
  },
  {
   "cell_type": "code",
   "execution_count": 30,
   "id": "32632a55-8411-4b55-be49-98cfb1fa1d1b",
   "metadata": {},
   "outputs": [
    {
     "data": {
      "text/plain": [
       "Index(['AÑO', 'MES', 'Homicidios', 'Hurtos', 'Lesiones', 'Robos',\n",
       "       'Robo vehículo ', 'Delitos sexuales', 'Violencia s/adulto mayor',\n",
       "       'Violencia s/ hombres', 'Violencia s/mujer', 'Violencia s/niños'],\n",
       "      dtype='object')"
      ]
     },
     "execution_count": 30,
     "metadata": {},
     "output_type": "execute_result"
    }
   ],
   "source": [
    "# Columnas del df\n",
    "\n",
    "df_delitos.columns"
   ]
  },
  {
   "cell_type": "code",
   "execution_count": 11,
   "id": "04c84d18-eeb8-481d-a9ea-9d9ad40ccfe2",
   "metadata": {},
   "outputs": [
    {
     "name": "stdout",
     "output_type": "stream",
     "text": [
      "<class 'pandas.core.frame.DataFrame'>\n",
      "RangeIndex: 162 entries, 0 to 161\n",
      "Data columns (total 12 columns):\n",
      " #   Column                    Non-Null Count  Dtype \n",
      "---  ------                    --------------  ----- \n",
      " 0   AÑO                       162 non-null    int64 \n",
      " 1   MES                       162 non-null    object\n",
      " 2   Homicidios                162 non-null    int64 \n",
      " 3   Hurtos                    162 non-null    int64 \n",
      " 4   Lesiones                  162 non-null    int64 \n",
      " 5   Robos                     162 non-null    int64 \n",
      " 6   Robo vehículo             162 non-null    int64 \n",
      " 7   Delitos sexuales          162 non-null    int64 \n",
      " 8   Violencia s/adulto mayor  162 non-null    int64 \n",
      " 9   Violencia s/ hombres      162 non-null    int64 \n",
      " 10  Violencia s/mujer         162 non-null    int64 \n",
      " 11  Violencia s/niños         162 non-null    int64 \n",
      "dtypes: int64(11), object(1)\n",
      "memory usage: 15.3+ KB\n"
     ]
    }
   ],
   "source": [
    "# Información \n",
    "\n",
    "df_delitos.info()"
   ]
  },
  {
   "cell_type": "code",
   "execution_count": 13,
   "id": "a3f1496f-909b-4822-87ae-5ccb6e71df20",
   "metadata": {},
   "outputs": [
    {
     "data": {
      "text/html": [
       "<div>\n",
       "<style scoped>\n",
       "    .dataframe tbody tr th:only-of-type {\n",
       "        vertical-align: middle;\n",
       "    }\n",
       "\n",
       "    .dataframe tbody tr th {\n",
       "        vertical-align: top;\n",
       "    }\n",
       "\n",
       "    .dataframe thead th {\n",
       "        text-align: right;\n",
       "    }\n",
       "</style>\n",
       "<table border=\"1\" class=\"dataframe\">\n",
       "  <thead>\n",
       "    <tr style=\"text-align: right;\">\n",
       "      <th></th>\n",
       "      <th>AÑO</th>\n",
       "      <th>Homicidios</th>\n",
       "      <th>Hurtos</th>\n",
       "      <th>Lesiones</th>\n",
       "      <th>Robos</th>\n",
       "      <th>Robo vehículo</th>\n",
       "      <th>Delitos sexuales</th>\n",
       "      <th>Violencia s/adulto mayor</th>\n",
       "      <th>Violencia s/ hombres</th>\n",
       "      <th>Violencia s/mujer</th>\n",
       "      <th>Violencia s/niños</th>\n",
       "    </tr>\n",
       "  </thead>\n",
       "  <tbody>\n",
       "    <tr>\n",
       "      <th>count</th>\n",
       "      <td>162.0</td>\n",
       "      <td>162.0</td>\n",
       "      <td>162.0</td>\n",
       "      <td>162.0</td>\n",
       "      <td>162.0</td>\n",
       "      <td>162.0</td>\n",
       "      <td>162.0</td>\n",
       "      <td>162.0</td>\n",
       "      <td>162.0</td>\n",
       "      <td>162.0</td>\n",
       "      <td>162.0</td>\n",
       "    </tr>\n",
       "    <tr>\n",
       "      <th>mean</th>\n",
       "      <td>2016.1</td>\n",
       "      <td>29.3</td>\n",
       "      <td>8339.3</td>\n",
       "      <td>4272.4</td>\n",
       "      <td>4986.5</td>\n",
       "      <td>2357.3</td>\n",
       "      <td>920.9</td>\n",
       "      <td>207.4</td>\n",
       "      <td>1275.4</td>\n",
       "      <td>6769.3</td>\n",
       "      <td>344.4</td>\n",
       "    </tr>\n",
       "    <tr>\n",
       "      <th>std</th>\n",
       "      <td>4.1</td>\n",
       "      <td>13.4</td>\n",
       "      <td>1724.2</td>\n",
       "      <td>1159.3</td>\n",
       "      <td>994.8</td>\n",
       "      <td>379.9</td>\n",
       "      <td>266.0</td>\n",
       "      <td>72.8</td>\n",
       "      <td>216.1</td>\n",
       "      <td>1013.1</td>\n",
       "      <td>95.2</td>\n",
       "    </tr>\n",
       "    <tr>\n",
       "      <th>min</th>\n",
       "      <td>2010.0</td>\n",
       "      <td>10.0</td>\n",
       "      <td>3636.0</td>\n",
       "      <td>1965.0</td>\n",
       "      <td>2842.0</td>\n",
       "      <td>1264.0</td>\n",
       "      <td>511.0</td>\n",
       "      <td>97.0</td>\n",
       "      <td>882.0</td>\n",
       "      <td>4640.0</td>\n",
       "      <td>121.0</td>\n",
       "    </tr>\n",
       "    <tr>\n",
       "      <th>25%</th>\n",
       "      <td>2013.0</td>\n",
       "      <td>20.0</td>\n",
       "      <td>7878.5</td>\n",
       "      <td>3495.8</td>\n",
       "      <td>4232.2</td>\n",
       "      <td>2157.2</td>\n",
       "      <td>736.2</td>\n",
       "      <td>157.0</td>\n",
       "      <td>1132.2</td>\n",
       "      <td>5946.0</td>\n",
       "      <td>267.2</td>\n",
       "    </tr>\n",
       "    <tr>\n",
       "      <th>50%</th>\n",
       "      <td>2016.0</td>\n",
       "      <td>26.0</td>\n",
       "      <td>8861.5</td>\n",
       "      <td>4062.5</td>\n",
       "      <td>4924.0</td>\n",
       "      <td>2446.5</td>\n",
       "      <td>843.0</td>\n",
       "      <td>179.0</td>\n",
       "      <td>1241.0</td>\n",
       "      <td>6708.0</td>\n",
       "      <td>355.0</td>\n",
       "    </tr>\n",
       "    <tr>\n",
       "      <th>75%</th>\n",
       "      <td>2020.0</td>\n",
       "      <td>35.0</td>\n",
       "      <td>9517.8</td>\n",
       "      <td>4959.2</td>\n",
       "      <td>5653.0</td>\n",
       "      <td>2629.2</td>\n",
       "      <td>1044.8</td>\n",
       "      <td>234.2</td>\n",
       "      <td>1364.8</td>\n",
       "      <td>7317.8</td>\n",
       "      <td>414.8</td>\n",
       "    </tr>\n",
       "    <tr>\n",
       "      <th>max</th>\n",
       "      <td>2023.0</td>\n",
       "      <td>73.0</td>\n",
       "      <td>10738.0</td>\n",
       "      <td>7101.0</td>\n",
       "      <td>8196.0</td>\n",
       "      <td>3037.0</td>\n",
       "      <td>1763.0</td>\n",
       "      <td>418.0</td>\n",
       "      <td>1975.0</td>\n",
       "      <td>9388.0</td>\n",
       "      <td>541.0</td>\n",
       "    </tr>\n",
       "  </tbody>\n",
       "</table>\n",
       "</div>"
      ],
      "text/plain": [
       "          AÑO  Homicidios   Hurtos  Lesiones   Robos  Robo vehículo   \\\n",
       "count   162.0       162.0    162.0     162.0   162.0           162.0   \n",
       "mean   2016.1        29.3   8339.3    4272.4  4986.5          2357.3   \n",
       "std       4.1        13.4   1724.2    1159.3   994.8           379.9   \n",
       "min    2010.0        10.0   3636.0    1965.0  2842.0          1264.0   \n",
       "25%    2013.0        20.0   7878.5    3495.8  4232.2          2157.2   \n",
       "50%    2016.0        26.0   8861.5    4062.5  4924.0          2446.5   \n",
       "75%    2020.0        35.0   9517.8    4959.2  5653.0          2629.2   \n",
       "max    2023.0        73.0  10738.0    7101.0  8196.0          3037.0   \n",
       "\n",
       "       Delitos sexuales  Violencia s/adulto mayor  Violencia s/ hombres  \\\n",
       "count             162.0                     162.0                 162.0   \n",
       "mean              920.9                     207.4                1275.4   \n",
       "std               266.0                      72.8                 216.1   \n",
       "min               511.0                      97.0                 882.0   \n",
       "25%               736.2                     157.0                1132.2   \n",
       "50%               843.0                     179.0                1241.0   \n",
       "75%              1044.8                     234.2                1364.8   \n",
       "max              1763.0                     418.0                1975.0   \n",
       "\n",
       "       Violencia s/mujer  Violencia s/niños  \n",
       "count              162.0              162.0  \n",
       "mean              6769.3              344.4  \n",
       "std               1013.1               95.2  \n",
       "min               4640.0              121.0  \n",
       "25%               5946.0              267.2  \n",
       "50%               6708.0              355.0  \n",
       "75%               7317.8              414.8  \n",
       "max               9388.0              541.0  "
      ]
     },
     "execution_count": 13,
     "metadata": {},
     "output_type": "execute_result"
    }
   ],
   "source": [
    "# Descripción del df\n",
    "\n",
    "df_delitos.describe ().round (1)"
   ]
  },
  {
   "cell_type": "markdown",
   "id": "9c1f45f2-d035-4795-9190-4e87c8e38d41",
   "metadata": {},
   "source": [
    "\n",
    "\n",
    "### Detección de datos nulos en el dataset\n",
    "\n"
   ]
  },
  {
   "cell_type": "code",
   "execution_count": 164,
   "id": "896ba588-50ba-4da2-ad39-d942ad1c9692",
   "metadata": {},
   "outputs": [
    {
     "name": "stdout",
     "output_type": "stream",
     "text": [
      "AÑO                         0\n",
      "MES                         0\n",
      "Homicidios                  0\n",
      "Hurtos                      0\n",
      "Lesiones                    0\n",
      "Robos                       0\n",
      "Robo vehículo               0\n",
      "Delitos sexuales            0\n",
      "Violencia s/adulto mayor    0\n",
      "Violencia s/ hombres        0\n",
      "Violencia s/mujer           0\n",
      "Violencia s/niños           0\n",
      "dtype: int64\n"
     ]
    }
   ],
   "source": [
    "\n",
    "print(df_delitos.isnull(). sum())"
   ]
  },
  {
   "cell_type": "markdown",
   "id": "b9a02bc2-9671-4f12-ab31-1a96ad07e660",
   "metadata": {},
   "source": [
    "##### No se visualizan datos nulos en el dataset seleccionado"
   ]
  },
  {
   "cell_type": "markdown",
   "id": "2eeeaca7-feed-4760-a2e3-ffeb819dd189",
   "metadata": {},
   "source": [
    "### Visualización del dataset a través de diferentes gráficas que nos ayuden a comprenderlo"
   ]
  },
  {
   "cell_type": "code",
   "execution_count": 18,
   "id": "a83f6935-e5b3-42ff-bc17-4546858a503b",
   "metadata": {},
   "outputs": [
    {
     "name": "stdout",
     "output_type": "stream",
     "text": [
      "    AÑO  Homicidios\n",
      "0  2010         474\n",
      "1  2011         195\n",
      "2  2013         224\n",
      "3  2014         302\n",
      "4  2015         307\n"
     ]
    }
   ],
   "source": [
    "# Nuevo df para grafica de homicidios \n",
    "\n",
    "df_homicidios= df_delitos [[\"Homicidios\",\"AÑO\"]].groupby (by=[\"AÑO\"]).sum().reset_index ()\n",
    "print (df_homicidios.head())\n"
   ]
  },
  {
   "cell_type": "code",
   "execution_count": 20,
   "id": "5b767bf7-3fad-46aa-8371-95ea3ae90a51",
   "metadata": {},
   "outputs": [
    {
     "data": {
      "image/png": "[encoded data removed]",
      "text/plain": [
       "<Figure size 1000x600 with 1 Axes>"
      ]
     },
     "metadata": {},
     "output_type": "display_data"
    }
   ],
   "source": [
    "# Gráfico del nuevo df_homicidios\n",
    "\n",
    "plt.figure(figsize=(10,6))\n",
    "sns.color_palette(\"Set2\")\n",
    "sns.barplot (x=\"AÑO\", y= \"Homicidios\", hue= \"Homicidios\", data= df_homicidios)\n",
    "plt.title (\"Cantidad de Homicidios por año\")\n",
    "plt.show ()\n",
    "\n"
   ]
  },
  {
   "cell_type": "code",
   "execution_count": 16,
   "id": "41ab8434-323a-476a-8c8b-592e5e9eecd2",
   "metadata": {},
   "outputs": [
    {
     "name": "stdout",
     "output_type": "stream",
     "text": [
      "    AÑO  Violencia s/adulto mayor  Violencia s/ hombres  Violencia s/mujer  \\\n",
      "0  2010                      3641                 31059             183641   \n",
      "1  2011                      2047                 15759              89249   \n",
      "2  2013                      1936                 15367              87203   \n",
      "3  2014                      1949                 14914              81866   \n",
      "4  2015                      2030                 13924              75391   \n",
      "\n",
      "   Violencia s/niños  \n",
      "0              11045  \n",
      "1               5212  \n",
      "2               4842  \n",
      "3               4504  \n",
      "4               4453  \n"
     ]
    }
   ],
   "source": [
    "# Establezco un nuevo DF para comparar la violencia en distintos ambitos familiares\n",
    "\n",
    "df_violencia= df_delitos [[\"Violencia s/adulto mayor\",\"Violencia s/ hombres\", \"Violencia s/mujer\",\"Violencia s/niños\",\"AÑO\"]].groupby (by=[\"AÑO\"]).sum().reset_index ()\n",
    "print (df_violencia.head())"
   ]
  },
  {
   "cell_type": "code",
   "execution_count": 17,
   "id": "f6999a8e-1ce2-479b-8ccc-c2c165ba924f",
   "metadata": {},
   "outputs": [
    {
     "name": "stdout",
     "output_type": "stream",
     "text": [
      "    AÑO                     Grupo  Violencia\n",
      "0  2010  Violencia s/adulto mayor       3641\n",
      "1  2011  Violencia s/adulto mayor       2047\n",
      "2  2013  Violencia s/adulto mayor       1936\n",
      "3  2014  Violencia s/adulto mayor       1949\n",
      "4  2015  Violencia s/adulto mayor       2030\n"
     ]
    }
   ],
   "source": [
    "# Armo un nuevo DF para poder visualizar la información sobre violencia en un solo gráfico de líneas\n",
    "\n",
    "df_violencia2 = df_violencia.melt (id_vars= \"AÑO\", var_name=\"Grupo\", value_name= \"Violencia\")\n",
    "print (df_violencia2.head())"
   ]
  },
  {
   "cell_type": "code",
   "execution_count": 23,
   "id": "e0e21225-5c28-4081-a016-1e66b74940ce",
   "metadata": {},
   "outputs": [
    {
     "data": {
      "image/png": "[encoded data removed]",
      "text/plain": [
       "<Figure size 640x480 with 1 Axes>"
      ]
     },
     "metadata": {},
     "output_type": "display_data"
    }
   ],
   "source": [
    "#Realizo el gráfico de líneas con el nuevo df_violencia2\n",
    "\n",
    "sns.lineplot (data= df_violencia2, x= \"AÑO\", y=\"Violencia\", hue= \"Grupo\", palette= [\"green\", \"blue\",\"red\", \"purple\"])\n",
    "plt.title (\"Violencia en diferentes ámbitos familiares\")\n",
    "plt.show()"
   ]
  },
  {
   "cell_type": "code",
   "execution_count": 25,
   "id": "65d4919c-d60a-417c-b888-e3cb2b3f6e84",
   "metadata": {},
   "outputs": [
    {
     "data": {
      "image/png": "[encoded data removed]",
      "text/plain": [
       "<Figure size 640x480 with 1 Axes>"
      ]
     },
     "metadata": {},
     "output_type": "display_data"
    }
   ],
   "source": [
    "# Grafico nuevamente quitando información sobre mujeres para poder visualizar mejor el resto de las variables.\n",
    "\n",
    "sns.lineplot(data= df_violencia, x=\"AÑO\", y=\"Violencia s/niños\", color= \"purple\")\n",
    "sns.lineplot (data= df_violencia, x=\"AÑO\", y=\"Violencia s/ hombres\", color= \"blue\")\n",
    "sns.lineplot (data= df_violencia, x=\"AÑO\", y=\"Violencia s/adulto mayor\", color= \"green\")\n",
    "plt.title (\"Violencia sobre niños, hombres y adulto mayor\")\n",
    "plt.show()"
   ]
  },
  {
   "cell_type": "code",
   "execution_count": 27,
   "id": "ffc3d144-32af-4816-847f-160faf91c54d",
   "metadata": {},
   "outputs": [
    {
     "name": "stdout",
     "output_type": "stream",
     "text": [
      "    AÑO   Robos  Hurtos\n",
      "0  2010  103205  228862\n",
      "1  2011   48134  114723\n",
      "2  2013   52027  115631\n",
      "3  2014   59572  117372\n",
      "4  2015   61264  111989\n"
     ]
    }
   ],
   "source": [
    "# Establezco un nuevo df para robos\n",
    "\n",
    "df_robos= df_delitos [[\"Robos\",\"Hurtos\",\"AÑO\"]].groupby (by=[\"AÑO\"]).sum().reset_index ()\n",
    "print (df_robos.head())"
   ]
  },
  {
   "cell_type": "code",
   "execution_count": 28,
   "id": "cf9d920f-f39b-470b-a2ba-8c869024cce1",
   "metadata": {},
   "outputs": [
    {
     "name": "stdout",
     "output_type": "stream",
     "text": [
      "    AÑO  Grupo  Robos/Hurtos\n",
      "0  2010  Robos        103205\n",
      "1  2011  Robos         48134\n",
      "2  2013  Robos         52027\n",
      "3  2014  Robos         59572\n",
      "4  2015  Robos         61264\n"
     ]
    }
   ],
   "source": [
    "#Agrupo valores para poder realizar gráfico de barras\n",
    "\n",
    "df_robos2 = df_robos.melt (id_vars= \"AÑO\", var_name=\"Grupo\", value_name= \"Robos/Hurtos\")\n",
    "print (df_robos2.head())"
   ]
  },
  {
   "cell_type": "code",
   "execution_count": 29,
   "id": "83ea2473-5f81-4218-b0be-c5595feca8bc",
   "metadata": {},
   "outputs": [
    {
     "data": {
      "image/png": "[encoded data removed]",
      "text/plain": [
       "<Figure size 1000x600 with 1 Axes>"
      ]
     },
     "metadata": {},
     "output_type": "display_data"
    }
   ],
   "source": [
    "#Realizo visualización sobre la iunformación de Robos y Hurtos\n",
    "\n",
    "plt.figure(figsize=(10,6))\n",
    "sns.color_palette(\"hls\",8)\n",
    "sns.barplot (x=\"AÑO\", y= \"Robos/Hurtos\", hue= \"Grupo\", data= df_robos2)\n",
    "plt.title (\"Cantidad de Robos y Hurtos en los últimos 10 años\")\n",
    "plt.show()"
   ]
  },
  {
   "cell_type": "code",
   "execution_count": 250,
   "id": "53d7df39-843e-40dc-843e-1cef6c81fd5b",
   "metadata": {},
   "outputs": [
    {
     "data": {
      "text/plain": [
       "Text(0.5, 0, 'Años')"
      ]
     },
     "execution_count": 250,
     "metadata": {},
     "output_type": "execute_result"
    },
    {
     "data": {
      "image/png": "[encoded data removed]",
      "text/plain": [
       "<Figure size 800x400 with 1 Axes>"
      ]
     },
     "metadata": {},
     "output_type": "display_data"
    }
   ],
   "source": [
    "# Identifico Outliers en df sobre violencia familiar\n",
    "\n",
    "fig, ax = plt.subplots (figsize=(8,4))\n",
    "ax.boxplot(df_violencia.T)\n",
    "ax.set_title (\"Violencia intra familiar\")\n",
    "ax.set_ylabel (\"Cantidad de denuncias\")\n",
    "ax.set_xlabel (\"Años\")\n",
    "\n"
   ]
  },
  {
   "cell_type": "markdown",
   "id": "05da50a8-ea53-452e-a195-e54222ace5e1",
   "metadata": {},
   "source": [
    "## Preprocesamiento de datos"
   ]
  },
  {
   "cell_type": "code",
   "execution_count": 189,
   "id": "ebee707f-111d-4e87-be1a-97251a0a9ece",
   "metadata": {},
   "outputs": [
    {
     "data": {
      "text/html": [
       "<div>\n",
       "<style scoped>\n",
       "    .dataframe tbody tr th:only-of-type {\n",
       "        vertical-align: middle;\n",
       "    }\n",
       "\n",
       "    .dataframe tbody tr th {\n",
       "        vertical-align: top;\n",
       "    }\n",
       "\n",
       "    .dataframe thead th {\n",
       "        text-align: right;\n",
       "    }\n",
       "</style>\n",
       "<table border=\"1\" class=\"dataframe\">\n",
       "  <thead>\n",
       "    <tr style=\"text-align: right;\">\n",
       "      <th></th>\n",
       "      <th>AÑO</th>\n",
       "      <th>MES</th>\n",
       "      <th>Homicidios</th>\n",
       "      <th>Hurtos</th>\n",
       "      <th>Lesiones</th>\n",
       "      <th>Robos</th>\n",
       "      <th>Robo vehículo</th>\n",
       "      <th>Delitos sexuales</th>\n",
       "      <th>Violencia s/adulto mayor</th>\n",
       "      <th>Violencia s/ hombres</th>\n",
       "      <th>Violencia s/mujer</th>\n",
       "      <th>Violencia s/niños</th>\n",
       "    </tr>\n",
       "  </thead>\n",
       "  <tbody>\n",
       "    <tr>\n",
       "      <th>0</th>\n",
       "      <td>0</td>\n",
       "      <td>3</td>\n",
       "      <td>28</td>\n",
       "      <td>9142</td>\n",
       "      <td>6723</td>\n",
       "      <td>4114</td>\n",
       "      <td>2270</td>\n",
       "      <td>657</td>\n",
       "      <td>136</td>\n",
       "      <td>1422</td>\n",
       "      <td>8618</td>\n",
       "      <td>468</td>\n",
       "    </tr>\n",
       "    <tr>\n",
       "      <th>1</th>\n",
       "      <td>0</td>\n",
       "      <td>4</td>\n",
       "      <td>19</td>\n",
       "      <td>8083</td>\n",
       "      <td>5433</td>\n",
       "      <td>3568</td>\n",
       "      <td>2210</td>\n",
       "      <td>593</td>\n",
       "      <td>116</td>\n",
       "      <td>1131</td>\n",
       "      <td>7020</td>\n",
       "      <td>373</td>\n",
       "    </tr>\n",
       "    <tr>\n",
       "      <th>2</th>\n",
       "      <td>0</td>\n",
       "      <td>7</td>\n",
       "      <td>18</td>\n",
       "      <td>7783</td>\n",
       "      <td>6527</td>\n",
       "      <td>3447</td>\n",
       "      <td>2375</td>\n",
       "      <td>716</td>\n",
       "      <td>140</td>\n",
       "      <td>1283</td>\n",
       "      <td>7552</td>\n",
       "      <td>482</td>\n",
       "    </tr>\n",
       "    <tr>\n",
       "      <th>3</th>\n",
       "      <td>0</td>\n",
       "      <td>0</td>\n",
       "      <td>15</td>\n",
       "      <td>8432</td>\n",
       "      <td>6248</td>\n",
       "      <td>3587</td>\n",
       "      <td>2480</td>\n",
       "      <td>710</td>\n",
       "      <td>124</td>\n",
       "      <td>1095</td>\n",
       "      <td>6778</td>\n",
       "      <td>405</td>\n",
       "    </tr>\n",
       "    <tr>\n",
       "      <th>4</th>\n",
       "      <td>0</td>\n",
       "      <td>8</td>\n",
       "      <td>14</td>\n",
       "      <td>9121</td>\n",
       "      <td>6189</td>\n",
       "      <td>3844</td>\n",
       "      <td>2632</td>\n",
       "      <td>707</td>\n",
       "      <td>123</td>\n",
       "      <td>1107</td>\n",
       "      <td>6955</td>\n",
       "      <td>452</td>\n",
       "    </tr>\n",
       "  </tbody>\n",
       "</table>\n",
       "</div>"
      ],
      "text/plain": [
       "   AÑO  MES  Homicidios  Hurtos  Lesiones  Robos  Robo vehículo   \\\n",
       "0    0    3          28    9142      6723   4114            2270   \n",
       "1    0    4          19    8083      5433   3568            2210   \n",
       "2    0    7          18    7783      6527   3447            2375   \n",
       "3    0    0          15    8432      6248   3587            2480   \n",
       "4    0    8          14    9121      6189   3844            2632   \n",
       "\n",
       "   Delitos sexuales  Violencia s/adulto mayor  Violencia s/ hombres  \\\n",
       "0               657                       136                  1422   \n",
       "1               593                       116                  1131   \n",
       "2               716                       140                  1283   \n",
       "3               710                       124                  1095   \n",
       "4               707                       123                  1107   \n",
       "\n",
       "   Violencia s/mujer  Violencia s/niños  \n",
       "0               8618                468  \n",
       "1               7020                373  \n",
       "2               7552                482  \n",
       "3               6778                405  \n",
       "4               6955                452  "
      ]
     },
     "execution_count": 189,
     "metadata": {},
     "output_type": "execute_result"
    }
   ],
   "source": [
    "# Clasificación de variables categóricas - Label Encoder\n",
    "\n",
    "column= [\"MES\", \"AÑO\"]\n",
    "\n",
    "df_delitos [column] = df_delitos [column].apply (LabelEncoder().fit_transform)\n",
    "df_delitos.head()"
   ]
  },
  {
   "cell_type": "markdown",
   "id": "d324d06b-e07c-4f5e-a46e-954236e5510d",
   "metadata": {},
   "source": [
    "## Modelado 1 - Robos"
   ]
  },
  {
   "cell_type": "code",
   "execution_count": 190,
   "id": "9d2ff520-26e9-4d8d-ab9c-8f2db95c6d1c",
   "metadata": {},
   "outputs": [],
   "source": [
    "# Se cargan los datos\n",
    "\n",
    "X = df_delitos.drop([\"Robos\"], axis=1)\n",
    "y = df_delitos [\"Robos\"]"
   ]
  },
  {
   "cell_type": "code",
   "execution_count": 191,
   "id": "80360423-2b40-477e-a024-0244961d9e14",
   "metadata": {},
   "outputs": [],
   "source": [
    "# Se separan los datos para entrenamiento y testeo\n",
    "\n",
    "X_train, X_test, y_train, y_test = train_test_split (X,y,test_size = 0.20, random_state= 16)"
   ]
  },
  {
   "cell_type": "markdown",
   "id": "711bb97b-6501-44b9-994b-4681d1829ed2",
   "metadata": {},
   "source": [
    "#### **Modelo Regresión Lineal**"
   ]
  },
  {
   "cell_type": "code",
   "execution_count": 192,
   "id": "374fb8a0-c47c-4976-989c-c90b93a8acc0",
   "metadata": {},
   "outputs": [
    {
     "name": "stdout",
     "output_type": "stream",
     "text": [
      "El r2 de la regresión lineal es 0.7363453086126093\n",
      "El MAE de la regresión lineal es 351.02799379117255\n",
      "El RMSE de la regresión lineal es 464.72150965368525\n"
     ]
    }
   ],
   "source": [
    "model_rl = LinearRegression ()\n",
    "model_rl.fit (X_train, y_train)\n",
    "y_pred_rl = model_rl.predict (X_test)\n",
    "\n",
    "r2_rl = r2_score (y_test, y_pred_rl)\n",
    "print (\"El r2 de la regresión lineal es\", r2_rl)\n",
    "\n",
    "MAE_rl= mean_absolute_error(y_test,y_pred_rl)\n",
    "print(\"El MAE de la regresión lineal es\",MAE_rl)\n",
    "\n",
    "RMSE_rl = mean_squared_error(y_test,y_pred_rl)\n",
    "print(\"El RMSE de la regresión lineal es\",np.sqrt(RMSE_rl))"
   ]
  },
  {
   "cell_type": "markdown",
   "id": "cbbd4fde-1a2f-4bd6-b73a-22031b2d262c",
   "metadata": {},
   "source": [
    "#### **Modelo KKN**"
   ]
  },
  {
   "cell_type": "code",
   "execution_count": 193,
   "id": "fbc2d6bb-ad93-4cbe-90a8-d6f148e847d5",
   "metadata": {},
   "outputs": [
    {
     "name": "stdout",
     "output_type": "stream",
     "text": [
      "El r2 de knn es 0.7824530603420875\n",
      "El MAE de knn es 331.6060606060607\n",
      "El RMSE de knn es 422.1351456727113\n"
     ]
    }
   ],
   "source": [
    "model = KNN (n_neighbors=5)\n",
    "model.fit(X_train,y_train)\n",
    "\n",
    "y_pred = model.predict (X_test)\n",
    "\n",
    "r2_knn = r2_score (y_test, y_pred)\n",
    "print (\"El r2 de knn es\", r2_knn)\n",
    "\n",
    "MAE_knn= mean_absolute_error(y_test,y_pred)\n",
    "print(\"El MAE de knn es\",MAE_knn)\n",
    "\n",
    "RMSE_knn = mean_squared_error(y_test,y_pred)\n",
    "print(\"El RMSE de knn es\",np.sqrt(RMSE_knn))"
   ]
  },
  {
   "cell_type": "markdown",
   "id": "706f9fa6-a553-47ff-89e1-6c130019ba19",
   "metadata": {},
   "source": [
    "#### **Modelo XGBoost**"
   ]
  },
  {
   "cell_type": "code",
   "execution_count": 167,
   "id": "0c0b816e-5218-422d-b99a-87c240d2fd51",
   "metadata": {},
   "outputs": [
    {
     "name": "stdout",
     "output_type": "stream",
     "text": [
      "El r2 de XGB es 0.753105878829956\n",
      "El MAE de xgb es 305.05175041429925\n",
      "El RMSE de xgb es 449.70774889527\n"
     ]
    }
   ],
   "source": [
    "model = XGBRegressor(n_estimators=2000, max_depth=7, learning_rate= 0.01)\n",
    "\n",
    "model.fit (X_train, y_train)\n",
    "\n",
    "y_pred = model.predict (X_test)\n",
    "r2_xgb = r2_score (y_test, y_pred)\n",
    "print (\"El r2 de XGB es\", r2_xgb)\n",
    "\n",
    "MAE_xgb= mean_absolute_error(y_test,y_pred)\n",
    "print(\"El MAE de xgb es\",MAE_xgb)\n",
    "\n",
    "RMSE_xgb = mean_squared_error(y_test,y_pred)\n",
    "print(\"El RMSE de xgb es\",np.sqrt(RMSE_xgb))"
   ]
  },
  {
   "cell_type": "markdown",
   "id": "3ded9575-5998-44d1-a8fd-5434038b3503",
   "metadata": {},
   "source": [
    "### Resultados en Test - Modelado 1"
   ]
  },
  {
   "cell_type": "markdown",
   "id": "dbf41cdc-2ba2-4a4b-a410-386ed39bd1c9",
   "metadata": {},
   "source": [
    "#### Métricas R2"
   ]
  },
  {
   "cell_type": "code",
   "execution_count": 154,
   "id": "23ef90db-16c2-423c-9e12-ececfe747c1d",
   "metadata": {},
   "outputs": [
    {
     "name": "stdout",
     "output_type": "stream",
     "text": [
      "Algoritmo Regresión Lineal 0.7363\n",
      "Algoritmo KNN 0.7825\n",
      "Algoritmo XGB 0.7531\n"
     ]
    }
   ],
   "source": [
    "print(\"Algoritmo Regresión Lineal \" + str(round(r2_rl, 4)))\n",
    "print(\"Algoritmo KNN \" + str(round(r2_knn, 4)))\n",
    "print(\"Algoritmo XGB \" + str(round(r2_xgb, 4)))"
   ]
  },
  {
   "cell_type": "markdown",
   "id": "39dbfbb5-d166-442a-92fa-7ed8ca232fb4",
   "metadata": {},
   "source": [
    "#### Conclusión de test - Modelado 1"
   ]
  },
  {
   "cell_type": "markdown",
   "id": "d532a80b-f03a-468b-bee8-16c8734d42bd",
   "metadata": {},
   "source": [
    "El mejor modelo para Robos fue el KNN."
   ]
  },
  {
   "cell_type": "markdown",
   "id": "c22de9b7-7937-4b87-86d6-32ab7dc7e796",
   "metadata": {},
   "source": [
    "## Modelado 2 - Violencia sobre Mujeres"
   ]
  },
  {
   "cell_type": "code",
   "execution_count": 194,
   "id": "3ae21bec-e539-422d-b85b-f8f3a4b1181b",
   "metadata": {},
   "outputs": [],
   "source": [
    "# Se cargan los datos\n",
    "\n",
    "X = df_delitos.drop([\"Violencia s/mujer\"], axis=1)\n",
    "y = df_delitos [\"Violencia s/mujer\"]"
   ]
  },
  {
   "cell_type": "code",
   "execution_count": 195,
   "id": "143388f8-0c57-4230-ab6d-d8a6ebdc7134",
   "metadata": {},
   "outputs": [],
   "source": [
    "# Se separan los datos para entrenamiento y testeo\n",
    "\n",
    "X_train, X_test, y_train, y_test = train_test_split (X,y,test_size = 0.20, random_state= 16)"
   ]
  },
  {
   "cell_type": "markdown",
   "id": "c8b35409-bd86-4b28-b6a2-2ed28940dc45",
   "metadata": {},
   "source": [
    "#### **Modelo Regresión Lineal**"
   ]
  },
  {
   "cell_type": "code",
   "execution_count": 196,
   "id": "e1ad3cf3-b0e8-4afb-8962-0dfe20ddd363",
   "metadata": {},
   "outputs": [
    {
     "name": "stdout",
     "output_type": "stream",
     "text": [
      "El r2 de la regresión lineal es 0.9191991299190647\n",
      "El MAE de la regresión lineal es 193.68206375983203\n",
      "El RMSE de la regresión lineal es 230.8936249836121\n"
     ]
    }
   ],
   "source": [
    "model_rl = LinearRegression ()\n",
    "model_rl.fit (X_train, y_train)\n",
    "y_pred_rl = model_rl.predict (X_test)\n",
    "\n",
    "r2_rl = r2_score (y_test, y_pred_rl)\n",
    "print (\"El r2 de la regresión lineal es\", r2_rl)\n",
    "\n",
    "MAE_rl= mean_absolute_error(y_test,y_pred_rl)\n",
    "print(\"El MAE de la regresión lineal es\",MAE_rl)\n",
    "\n",
    "RMSE_rl = mean_squared_error(y_test,y_pred_rl)\n",
    "print(\"El RMSE de la regresión lineal es\",np.sqrt(RMSE_rl))"
   ]
  },
  {
   "cell_type": "markdown",
   "id": "538a3ad7-ee65-4ca0-ba8b-dd0a91d768e3",
   "metadata": {},
   "source": [
    "#### **Modelo KNN**"
   ]
  },
  {
   "cell_type": "code",
   "execution_count": 197,
   "id": "c5485e32-66a0-431a-bc57-c01e85980774",
   "metadata": {},
   "outputs": [
    {
     "name": "stdout",
     "output_type": "stream",
     "text": [
      "El r2 de knn es 0.5313863776787767\n",
      "El MAE de knn es 419.6363636363635\n",
      "El RMSE de knn es 556.0468412795542\n"
     ]
    }
   ],
   "source": [
    "model = KNN (n_neighbors=5)\n",
    "model.fit(X_train,y_train)\n",
    "\n",
    "y_pred = model.predict (X_test)\n",
    "\n",
    "r2_knn = r2_score (y_test, y_pred)\n",
    "print (\"El r2 de knn es\", r2_knn)\n",
    "\n",
    "MAE_knn= mean_absolute_error(y_test,y_pred)\n",
    "print(\"El MAE de knn es\",MAE_knn)\n",
    "\n",
    "RMSE_knn = mean_squared_error(y_test,y_pred)\n",
    "print(\"El RMSE de knn es\",np.sqrt(RMSE_knn))"
   ]
  },
  {
   "cell_type": "markdown",
   "id": "702e52f1-1e41-41d8-8370-8c202e833292",
   "metadata": {},
   "source": [
    "#### **Modelo XGBoost**"
   ]
  },
  {
   "cell_type": "code",
   "execution_count": 198,
   "id": "24693dd8-1c51-4c26-af83-3966800239de",
   "metadata": {},
   "outputs": [
    {
     "name": "stdout",
     "output_type": "stream",
     "text": [
      "El r2 de XGB es 0.8855772018432617\n",
      "El MAE de xgb es 228.2778172348485\n",
      "El RMSE de xgb es 274.76422492880033\n"
     ]
    }
   ],
   "source": [
    "model = XGBRegressor(n_estimators=2000, max_depth=7, learning_rate= 0.01)\n",
    "\n",
    "model.fit (X_train, y_train)\n",
    "\n",
    "y_pred = model.predict (X_test)\n",
    "r2_xgb = r2_score (y_test, y_pred)\n",
    "print (\"El r2 de XGB es\", r2_xgb)\n",
    "\n",
    "MAE_xgb= mean_absolute_error(y_test,y_pred)\n",
    "print(\"El MAE de xgb es\",MAE_xgb)\n",
    "\n",
    "RMSE_xgb = mean_squared_error(y_test,y_pred)\n",
    "print(\"El RMSE de xgb es\",np.sqrt(RMSE_xgb))"
   ]
  },
  {
   "cell_type": "markdown",
   "id": "a76e5b23-dce0-43c3-bab4-43e3e1fe64a8",
   "metadata": {},
   "source": [
    "### Resultados en Test - Modelado 2"
   ]
  },
  {
   "cell_type": "markdown",
   "id": "25512282-ae45-4e85-8ad2-78c5f40195cd",
   "metadata": {},
   "source": [
    "#### Métricas R2"
   ]
  },
  {
   "cell_type": "code",
   "execution_count": 199,
   "id": "bb49d8e7-c465-439a-9abb-94c165f8e5d6",
   "metadata": {},
   "outputs": [
    {
     "name": "stdout",
     "output_type": "stream",
     "text": [
      "Algoritmo Regresión Lineal 0.9192\n",
      "Algoritmo KNN 0.5314\n",
      "Algoritmo XGB 0.8856\n"
     ]
    }
   ],
   "source": [
    "print(\"Algoritmo Regresión Lineal \" + str(round(r2_rl, 4)))\n",
    "print(\"Algoritmo KNN \" + str(round(r2_knn, 4)))\n",
    "print(\"Algoritmo XGB \" + str(round(r2_xgb, 4)))"
   ]
  },
  {
   "cell_type": "markdown",
   "id": "000ec247-1580-4202-9836-99c50972bb71",
   "metadata": {},
   "source": [
    "#### Conclusiones en Test - Modelado 2"
   ]
  },
  {
   "cell_type": "markdown",
   "id": "fee21572-e0df-4101-8d24-15a1a85e88fe",
   "metadata": {},
   "source": [
    "El mejor modelo para Robos fue el Regresión Lineal."
   ]
  },
  {
   "cell_type": "markdown",
   "id": "acfebc4e-7906-4686-b1c1-4dd62b6d1a98",
   "metadata": {},
   "source": [
    "## **Conclusiones del trabajo**"
   ]
  },
  {
   "cell_type": "markdown",
   "id": "3dbc5c6b-12e9-4563-8763-5e2838a9506d",
   "metadata": {},
   "source": [
    "Se generaron los modelos predictivos tanto para Robos como para Violencia sobre mujer, vemos que los resultados del algoritmo del segundo modelado son significativamente mejores que el primero.\n",
    "Si bien el primer modelado es poco probable que sirva ya que los resultados no alcanzan a ser buenos, hay posibilidades de poder utilizar el segundo modelado para la predicción requerida."
   ]
  },
  {
   "cell_type": "code",
   "execution_count": null,
   "id": "d5fbc5be-f1c7-4070-9615-da35c2da27bf",
   "metadata": {},
   "outputs": [],
   "source": []
  }
 ],
 "metadata": {
  "kernelspec": {
   "display_name": "Python 3 (ipykernel)",
   "language": "python",
   "name": "python3"
  },
  "language_info": {
   "codemirror_mode": {
    "name": "ipython",
    "version": 3
   },
   "file_extension": ".py",
   "mimetype": "text/x-python",
   "name": "python",
   "nbconvert_exporter": "python",
   "pygments_lexer": "ipython3",
   "version": "3.12.3"
  }
 },
 "nbformat": 4,
 "nbformat_minor": 5
}
